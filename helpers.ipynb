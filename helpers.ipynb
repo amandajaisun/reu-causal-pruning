{
 "cells": [
  {
   "cell_type": "code",
   "execution_count": 1,
   "id": "4b48d1db-91fe-4123-b307-2d4915e44d4f",
   "metadata": {},
   "outputs": [],
   "source": [
    "def load_vars_xarray(input_vars, output_vars, downsample=True, chunks = False):\n",
    "    # raw files, not interpolated according to Yu suggestion\n",
    "    if(chunks):\n",
    "        mapper = fs.get_mapper('leap-persistent-ro/sungdukyu/E3SM-MMF_ne4.train.input.zarr')\n",
    "        inp = xr.open_dataset(mapper, engine='zarr', chunks={})\n",
    "        mapper = fs.get_mapper('leap-persistent-ro/sungdukyu/E3SM-MMF_ne4.train.output.zarr')\n",
    "        output = xr.open_dataset(mapper, engine='zarr', chunks={})\n",
    "    else:\n",
    "        mapper = fs.get_mapper('leap-persistent-ro/sungdukyu/E3SM-MMF_ne4.train.input.zarr')\n",
    "        inp = xr.open_dataset(mapper, engine='zarr')\n",
    "        mapper = fs.get_mapper('leap-persistent-ro/sungdukyu/E3SM-MMF_ne4.train.output.zarr')\n",
    "        output = xr.open_dataset(mapper, engine='zarr')\n",
    "    if downsample: # might as well do first\n",
    "        inp = inp.isel(sample = np.arange(36,len(inp.sample),72)) #  every 1 day\n",
    "        output = output.isel(sample = np.arange(36,len(output.sample),72))\n",
    "    ds = inp[input_vars]\n",
    "    for var in output_vars:\n",
    "        ds['out_'+var] = output[var]\n",
    "    time = pd.DataFrame({\"ymd\":inp.ymd, \"tod\":inp.tod})\n",
    "    # rename sample to reformatted time column \n",
    "    f = lambda ymd, tod : cftime.DatetimeNoLeap(ymd//10000, ymd%10000//100, ymd%10000%100, tod // 3600, tod%3600 // 60)\n",
    "    time = time.apply(lambda x: f(x.ymd, x.tod), axis=1)\n",
    "    ds['sample'] = list(time)\n",
    "    ds = ds.rename({'sample':'time'})\n",
    "    ds = ds.assign_coords({'ncol' : ds.ncol})\n",
    "    return(ds)"
   ]
  }
 ],
 "metadata": {
  "kernelspec": {
   "display_name": "Python 3 (ipykernel)",
   "language": "python",
   "name": "python3"
  },
  "language_info": {
   "codemirror_mode": {
    "name": "ipython",
    "version": 3
   },
   "file_extension": ".py",
   "mimetype": "text/x-python",
   "name": "python",
   "nbconvert_exporter": "python",
   "pygments_lexer": "ipython3",
   "version": "3.10.9"
  }
 },
 "nbformat": 4,
 "nbformat_minor": 5
}
